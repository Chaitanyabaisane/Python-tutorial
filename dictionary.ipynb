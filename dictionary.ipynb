{
 "cells": [
  {
   "cell_type": "code",
   "execution_count": 2,
   "id": "b44f20f2",
   "metadata": {},
   "outputs": [
    {
     "name": "stdout",
     "output_type": "stream",
     "text": [
      "{'x': 1, 'y': 2, 'z': 3}\n"
     ]
    }
   ],
   "source": [
    "dict1 = {\"x\":1, \"y\":2, \"z\":3}\n",
    "print(dict1)"
   ]
  },
  {
   "cell_type": "code",
   "execution_count": 3,
   "id": "afe84f3f",
   "metadata": {},
   "outputs": [
    {
     "name": "stdout",
     "output_type": "stream",
     "text": [
      "{'x': 1, 'y': 10, 'z': 3}\n"
     ]
    }
   ],
   "source": [
    "dict1[\"y\"]=10\n",
    "print(dict1)"
   ]
  },
  {
   "attachments": {},
   "cell_type": "markdown",
   "id": "3f31e45f",
   "metadata": {},
   "source": [
    "# Tuple"
   ]
  },
  {
   "cell_type": "code",
   "execution_count": 4,
   "id": "70efc4c4",
   "metadata": {},
   "outputs": [
    {
     "name": "stdout",
     "output_type": "stream",
     "text": [
      "('a', 'b', 'c')\n"
     ]
    }
   ],
   "source": [
    "tuple1 = (\"a\", \"b\", \"c\")\n",
    "print(tuple1)"
   ]
  },
  {
   "cell_type": "code",
   "execution_count": 5,
   "id": "c3b74077",
   "metadata": {},
   "outputs": [
    {
     "data": {
      "text/plain": [
       "'c'"
      ]
     },
     "execution_count": 5,
     "metadata": {},
     "output_type": "execute_result"
    }
   ],
   "source": [
    "tuple1[2]"
   ]
  },
  {
   "cell_type": "code",
   "execution_count": 6,
   "id": "ab8b9f88",
   "metadata": {},
   "outputs": [
    {
     "data": {
      "text/plain": [
       "('b', 'c')"
      ]
     },
     "execution_count": 6,
     "metadata": {},
     "output_type": "execute_result"
    }
   ],
   "source": [
    "tuple1[1:]"
   ]
  },
  {
   "cell_type": "code",
   "execution_count": 7,
   "id": "333f8790",
   "metadata": {},
   "outputs": [
    {
     "name": "stdout",
     "output_type": "stream",
     "text": [
      "(1, 2, 3)\n"
     ]
    }
   ],
   "source": [
    "tuple2=1,2,3\n",
    "print(tuple2)"
   ]
  },
  {
   "cell_type": "code",
   "execution_count": 9,
   "id": "7a661ae1",
   "metadata": {},
   "outputs": [
    {
     "name": "stdout",
     "output_type": "stream",
     "text": [
      "(1, 2, 3, 4, 5, 6)\n",
      "('Mexico', 'France', 'America')\n"
     ]
    }
   ],
   "source": [
    "tuple3=(1,2,3,4,5,6)\n",
    "print(tuple3)\n",
    "tuple4=(\"Mexico\",\"France\",\"America\")\n",
    "print(tuple4)"
   ]
  },
  {
   "cell_type": "code",
   "execution_count": 12,
   "id": "9be99a52",
   "metadata": {},
   "outputs": [
    {
     "name": "stdout",
     "output_type": "stream",
     "text": [
      "['spain', 'germany', 'india', 'France', 'russia']\n",
      "['spain', 'germany', 'india', 'France', 'russia', 'Mexico']\n",
      "['spain', 'germany', 'india', 'russia', 'Mexico']\n",
      "['spain', 'finland', 'india', 'russia', 'Mexico']\n",
      "('spain', 'finland', 'india', 'russia', 'Mexico')\n"
     ]
    }
   ],
   "source": [
    "country=(\"spain\",\"germany\",\"india\",\"France\",\"russia\")\n",
    "temp=list(country)\n",
    "print(temp)\n",
    "temp.append(\"Mexico\")\n",
    "print(temp)\n",
    "temp.pop(3)\n",
    "print(temp)\n",
    "temp[1]=(\"finland\")\n",
    "print(temp)\n",
    "country=tuple(temp)\n",
    "print(country)"
   ]
  },
  {
   "cell_type": "code",
   "execution_count": 10,
   "id": "2b912912",
   "metadata": {},
   "outputs": [
    {
     "name": "stdout",
     "output_type": "stream",
     "text": [
      "{1, 2, 3}\n"
     ]
    }
   ],
   "source": [
    "myset = {1,2,3}\n",
    "print(myset)"
   ]
  },
  {
   "cell_type": "code",
   "execution_count": 11,
   "id": "5f3a2078",
   "metadata": {},
   "outputs": [
    {
     "name": "stdout",
     "output_type": "stream",
     "text": [
      "{1, 2, 3}\n"
     ]
    }
   ],
   "source": [
    "myset = set([1,2,3,2])\n",
    "print(myset)"
   ]
  },
  {
   "cell_type": "code",
   "execution_count": 12,
   "id": "bb8c86e6",
   "metadata": {},
   "outputs": [
    {
     "name": "stdout",
     "output_type": "stream",
     "text": [
      "set()\n"
     ]
    }
   ],
   "source": [
    "print(set())"
   ]
  },
  {
   "cell_type": "code",
   "execution_count": 13,
   "id": "21be0de6",
   "metadata": {},
   "outputs": [
    {
     "data": {
      "text/plain": [
       "True"
      ]
     },
     "execution_count": 13,
     "metadata": {},
     "output_type": "execute_result"
    }
   ],
   "source": [
    "set1 = {1,2,3}\n",
    "set2 = {3,4,5}\n",
    "\n",
    "1 in set1"
   ]
  },
  {
   "cell_type": "code",
   "execution_count": 14,
   "id": "cd283240",
   "metadata": {},
   "outputs": [
    {
     "name": "stdout",
     "output_type": "stream",
     "text": [
      "{}\n"
     ]
    }
   ],
   "source": [
    "dict2 = {}\n",
    "print(dict2)"
   ]
  },
  {
   "cell_type": "code",
   "execution_count": 20,
   "id": "d4bce46a",
   "metadata": {},
   "outputs": [
    {
     "name": "stdout",
     "output_type": "stream",
     "text": [
      "Square of the given number is: 4\n",
      "Cube of the given number is: 8\n"
     ]
    }
   ],
   "source": [
    "def findSquare(x):\n",
    "    y = x * x\n",
    "    return y\n",
    "\n",
    "def findCube(x):\n",
    "    z = x * findSquare(x)\n",
    "    return z\n",
    "\n",
    "num = int(input(\"Enter any value: \"))\n",
    "res = findSquare(num)\n",
    "print(\"Square of the given number is:\", res)\n",
    "res = findCube(num)\n",
    "print(\"Cube of the given number is:\", res)"
   ]
  },
  {
   "cell_type": "code",
   "execution_count": 21,
   "id": "3c265db9",
   "metadata": {},
   "outputs": [
    {
     "name": "stdout",
     "output_type": "stream",
     "text": [
      "Maximum value is :  6\n"
     ]
    }
   ],
   "source": [
    "def findLargest(a,b,c):\n",
    "    if(a>b and a>c):\n",
    "        big = a\n",
    "    elif(b>a and b>c):\n",
    "        big = b\n",
    "    else:\n",
    "        big = c\n",
    "    return big\n",
    "\n",
    "x = int(input(\"Enter first value: \"))\n",
    "y = int(input(\"Enter second value: \"))\n",
    "z = int(input(\"Enter third value: \"))\n",
    "res = findLargest(x,y,z)\n",
    "print(\"Maximum value is : \",res)"
   ]
  }
 ],
 "metadata": {
  "kernelspec": {
   "display_name": "Python 3 (ipykernel)",
   "language": "python",
   "name": "python3"
  },
  "language_info": {
   "codemirror_mode": {
    "name": "ipython",
    "version": 3
   },
   "file_extension": ".py",
   "mimetype": "text/x-python",
   "name": "python",
   "nbconvert_exporter": "python",
   "pygments_lexer": "ipython3",
   "version": "3.9.7"
  }
 },
 "nbformat": 4,
 "nbformat_minor": 5
}
